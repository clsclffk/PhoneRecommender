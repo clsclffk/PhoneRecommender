{
 "cells": [
  {
   "cell_type": "markdown",
   "id": "5b07a55b-6d04-46d3-8db0-b2a22ee76945",
   "metadata": {},
   "source": [
    "## HDFS -> PySpark -> MYSQL\n",
    "- host_ip = 15.168.221.131\n",
    "- DATABASE = SNS_DB\n",
    "- user_id = lab13\n",
    "- user_password = lab13\n",
    "\n",
    "## pyspark 환경 변수\n",
    "- `export SPARK_CLASSPATH=/home/ubuntu/mysql-connector-java-5.1.49.jar`\n",
    "- `export PYTHONPATH=$PYTHONPATH:/home/ubuntu/mysql-connector-java-5.1.49.jar`\n",
    "- `export SPARK_SUBMIT_OPTIONS=\"--jars /home/ubuntu/mysql-connector-java-5.1.49/mysql-connector-java-5.1.49.jar\"`"
   ]
  },
  {
   "cell_type": "markdown",
   "id": "6eb6f981-6651-4471-bf81-7348b2450c42",
   "metadata": {},
   "source": [
    "## 필요 라이브러리 로드"
   ]
  },
  {
   "cell_type": "code",
   "execution_count": null,
   "id": "460e5e07-ae2f-414c-8d5f-bb21cb4685e8",
   "metadata": {},
   "outputs": [],
   "source": [
    "from pyspark.sql import SparkSession\n",
    "from pyspark.sql.functions import col, to_timestamp\n",
    "import pymysql\n",
    "import mysql.connector\n",
    "import pandas as pd\n",
    "import os"
   ]
  },
  {
   "cell_type": "markdown",
   "id": "f93ce2c8-cf7d-42f8-8b30-4c20d02840c3",
   "metadata": {},
   "source": [
    "## MySQL -> PySpark 연결"
   ]
  },
  {
   "cell_type": "code",
   "execution_count": 1,
   "id": "dea5659d-01a4-4d37-88b3-1d314c826a2e",
   "metadata": {},
   "outputs": [
    {
     "name": "stderr",
     "output_type": "stream",
     "text": [
      "25/02/18 17:44:17 WARN NativeCodeLoader: Unable to load native-hadoop library for your platform... using builtin-java classes where applicable\n",
      "Using Spark's default log4j profile: org/apache/spark/log4j-defaults.properties\n",
      "Setting default log level to \"WARN\".\n",
      "To adjust logging level use sc.setLogLevel(newLevel). For SparkR, use setLogLevel(newLevel).\n",
      "Tue Feb 18 17:44:20 KST 2025 WARN: Establishing SSL connection without server's identity verification is not recommended. According to MySQL 5.5.45+, 5.6.26+ and 5.7.6+ requirements SSL connection must be established by default if explicit option isn't set. For compliance with existing applications not using SSL the verifyServerCertificate property is set to 'false'. You need either to explicitly disable SSL by setting useSSL=false, or set useSSL=true and provide truststore for server certificate verification.\n",
      "Tue Feb 18 17:44:24 KST 2025 WARN: Establishing SSL connection without server's identity verification is not recommended. According to MySQL 5.5.45+, 5.6.26+ and 5.7.6+ requirements SSL connection must be established by default if explicit option isn't set. For compliance with existing applications not using SSL the verifyServerCertificate property is set to 'false'. You need either to explicitly disable SSL by setting useSSL=false, or set useSSL=true and provide truststore for server certificate verification.\n"
     ]
    },
    {
     "name": "stdout",
     "output_type": "stream",
     "text": [
      "+---+-----------+---------------------------------+-------------------+-----------------+----------------------------------+----------+--------------------+-------------------+\n",
      "| id|   video_id|                            title|       publish_date|     channel_name|                           comment|like_count|comment_publish_date|        inserted_at|\n",
      "+---+-----------+---------------------------------+-------------------+-----------------+----------------------------------+----------+--------------------+-------------------+\n",
      "|  1|JEnFUkGHN5E|  애타게 기다렸다.. 삼성 ‘정상...|2025-01-25 10:00:19|        ITSub잇섭|   남이 만든 고성능 최신 칩, 메...|         0| 2025-01-28 07:53:14|2025-02-18 13:06:09|\n",
      "|  2|JEnFUkGHN5E|  애타게 기다렸다.. 삼성 ‘정상...|2025-01-25 10:00:19|        ITSub잇섭|     10:51 실리콘 카바이드 ㄴㄴ...|         2| 2025-01-26 14:23:50|2025-02-18 13:06:09|\n",
      "|  3|JEnFUkGHN5E|  애타게 기다렸다.. 삼성 ‘정상...|2025-01-25 10:00:19|        ITSub잇섭| 잇섭님 영상과 조금 동떨어진 얘...|         6| 2025-01-26 02:46:19|2025-02-18 13:06:09|\n",
      "|  4|JEnFUkGHN5E|  애타게 기다렸다.. 삼성 ‘정상...|2025-01-25 10:00:19|        ITSub잇섭|  미국, 유럽에선 엄청 까이던데 ...|         2| 2025-01-25 14:26:04|2025-02-18 13:06:09|\n",
      "|  5|JEnFUkGHN5E|  애타게 기다렸다.. 삼성 ‘정상...|2025-01-25 10:00:19|        ITSub잇섭|    역시 잇섭님!!!!\n",
      "혹시 다음에...|         0| 2025-01-25 14:02:19|2025-02-18 13:06:09|\n",
      "|  6|JEnFUkGHN5E|  애타게 기다렸다.. 삼성 ‘정상...|2025-01-25 10:00:19|        ITSub잇섭| 삼성 칩을 쓰질 않게되고부턴 성...|         1| 2025-01-25 12:01:22|2025-02-18 13:06:09|\n",
      "|  7|JEnFUkGHN5E|  애타게 기다렸다.. 삼성 ‘정상...|2025-01-25 10:00:19|        ITSub잇섭|      8:43 저 점수는 어떤 걸 뜻...|         0| 2025-01-25 11:52:20|2025-02-18 13:06:09|\n",
      "|  8|JEnFUkGHN5E|  애타게 기다렸다.. 삼성 ‘정상...|2025-01-25 10:00:19|        ITSub잇섭|    13pro에서 넘어갈만한가요 아...|         0| 2025-01-25 11:22:13|2025-02-18 13:06:09|\n",
      "|  9|JEnFUkGHN5E|  애타게 기다렸다.. 삼성 ‘정상...|2025-01-25 10:00:19|        ITSub잇섭| 저는 울트라 티타늄 블랙 샀는데...|         0| 2025-01-25 10:44:58|2025-02-18 13:06:09|\n",
      "| 10|JEnFUkGHN5E|  애타게 기다렸다.. 삼성 ‘정상...|2025-01-25 10:00:19|        ITSub잇섭|   갤북5에 이어서 S25시리즈까지...|        12| 2025-01-25 10:04:10|2025-02-18 13:06:09|\n",
      "| 11|BAytLn0NhpI|       갤럭시 S24+ VS 갤럭시 S...|2024-02-05 11:30:05|        ITSub잇섭| 벨벳쓰다가 24플넘어왓는데 존나...|         1| 2024-02-05 17:46:45|2025-02-18 13:06:09|\n",
      "| 12|BAytLn0NhpI|       갤럭시 S24+ VS 갤럭시 S...|2024-02-05 11:30:05|        ITSub잇섭|     3:54 새건데 벌써 한번 떨어...|         6| 2024-02-05 15:11:52|2025-02-18 13:06:09|\n",
      "| 13|BAytLn0NhpI|       갤럭시 S24+ VS 갤럭시 S...|2024-02-05 11:30:05|        ITSub잇섭|                              8:59|         0| 2024-02-05 12:40:21|2025-02-18 13:06:09|\n",
      "| 14|BAytLn0NhpI|       갤럭시 S24+ VS 갤럭시 S...|2024-02-05 11:30:05|        ITSub잇섭|지금 울트라버전 사진관련해서 이...|         0| 2024-02-05 11:44:52|2025-02-18 13:06:09|\n",
      "| 15|BAytLn0NhpI|       갤럭시 S24+ VS 갤럭시 S...|2024-02-05 11:30:05|        ITSub잇섭|  별생각 없었는데 5배 광학줌 실...|         6| 2024-02-05 11:39:00|2025-02-18 13:06:09|\n",
      "| 16|1Gv7VeYUo2g|빛나는 사성이 되어버린 삼성 케...|2024-01-31 10:00:00|디에디트 THE EDIT|               클리어뜻을 모르나??|         0| 2024-02-29 21:21:15|2025-02-18 13:06:09|\n",
      "| 17|1Gv7VeYUo2g|빛나는 사성이 되어버린 삼성 케...|2024-01-31 10:00:00|디에디트 THE EDIT| 업무명령 하신 분은 징계절차 밟...|      1984| 2024-01-31 15:21:30|2025-02-18 13:06:09|\n",
      "| 18|zaGM9YjHvSQ| 진짜 솔직하게요? 두달 내내 매...|2024-04-09 11:00:55|        ITSub잇섭|디지털 줌이라면 초점거리는 줌하...|         0| 2024-12-29 13:47:54|2025-02-18 13:06:09|\n",
      "| 19|zaGM9YjHvSQ| 진짜 솔직하게요? 두달 내내 매...|2024-04-09 11:00:55|        ITSub잇섭|    써보니 70세 나는 편해 무얼 ...|         0| 2024-10-03 22:31:03|2025-02-18 13:06:09|\n",
      "| 20|zaGM9YjHvSQ| 진짜 솔직하게요? 두달 내내 매...|2024-04-09 11:00:55|        ITSub잇섭|      갤럭시 s24 600만대 팔렸는...|         4| 2024-04-17 12:41:37|2025-02-18 13:06:09|\n",
      "+---+-----------+---------------------------------+-------------------+-----------------+----------------------------------+----------+--------------------+-------------------+\n",
      "only showing top 20 rows\n",
      "\n"
     ]
    },
    {
     "name": "stderr",
     "output_type": "stream",
     "text": [
      "                                                                                "
     ]
    }
   ],
   "source": [
    "host_ip = \"15.168.221.131\"  \n",
    "DATABASE = \"SNS_DB\"\n",
    "user_id = \"lab13\"\n",
    "user_password = \"lab13\"\n",
    "mysql_url = f\"jdbc:mysql://{host_ip}:3306/{DATABASE}\"\n",
    "\n",
    "# Spark 세션 생성\n",
    "spark = SparkSession.builder \\\n",
    "    .appName(\"MySQL Example\") \\\n",
    "    .config(\"spark.jars\", \"/home/ubuntu/mysql-connector-java-5.1.49/mysql-connector-java-5.1.49.jar\") \\\n",
    "    .getOrCreate()\n",
    "\n",
    "# MySQL 데이터베이스 연결 속성\n",
    "properties = {\n",
    "    \"user\": user_id,\n",
    "    \"password\": user_password,\n",
    "    \"driver\": \"com.mysql.jdbc.Driver\"\n",
    "}\n",
    "\n",
    "# MySQL에서 데이터 불러오기\n",
    "df = spark.read.jdbc(url=mysql_url, table=\"tbCrawled_Youtube\", properties=properties)\n",
    "\n",
    "# 데이터프레임 내용 확인\n",
    "df.show()"
   ]
  },
  {
   "cell_type": "code",
   "execution_count": 1,
   "id": "e4c6d7c2-f9ae-4fe8-a152-5ae6227e3373",
   "metadata": {
    "scrolled": true
   },
   "outputs": [
    {
     "name": "stderr",
     "output_type": "stream",
     "text": [
      "25/02/18 13:39:24 WARN NativeCodeLoader: Unable to load native-hadoop library for your platform... using builtin-java classes where applicable\n",
      "Using Spark's default log4j profile: org/apache/spark/log4j-defaults.properties\n",
      "Setting default log level to \"WARN\".\n",
      "To adjust logging level use sc.setLogLevel(newLevel). For SparkR, use setLogLevel(newLevel).\n",
      "[Stage 0:>                                                          (0 + 1) / 1]\r"
     ]
    },
    {
     "name": "stdout",
     "output_type": "stream",
     "text": [
      "+---+-----------+---------------------------------+-------------------+-----------------+----------------------------------+----------+--------------------+-------------------+\n",
      "| id|   video_id|                            title|       publish_date|     channel_name|                           comment|like_count|comment_publish_date|        inserted_at|\n",
      "+---+-----------+---------------------------------+-------------------+-----------------+----------------------------------+----------+--------------------+-------------------+\n",
      "|  1|JEnFUkGHN5E|  애타게 기다렸다.. 삼성 ‘정상...|2025-01-25 10:00:19|        ITSub잇섭|   남이 만든 고성능 최신 칩, 메...|         0| 2025-01-28 07:53:14|2025-02-18 13:06:09|\n",
      "|  2|JEnFUkGHN5E|  애타게 기다렸다.. 삼성 ‘정상...|2025-01-25 10:00:19|        ITSub잇섭|     10:51 실리콘 카바이드 ㄴㄴ...|         2| 2025-01-26 14:23:50|2025-02-18 13:06:09|\n",
      "|  3|JEnFUkGHN5E|  애타게 기다렸다.. 삼성 ‘정상...|2025-01-25 10:00:19|        ITSub잇섭| 잇섭님 영상과 조금 동떨어진 얘...|         6| 2025-01-26 02:46:19|2025-02-18 13:06:09|\n",
      "|  4|JEnFUkGHN5E|  애타게 기다렸다.. 삼성 ‘정상...|2025-01-25 10:00:19|        ITSub잇섭|  미국, 유럽에선 엄청 까이던데 ...|         2| 2025-01-25 14:26:04|2025-02-18 13:06:09|\n",
      "|  5|JEnFUkGHN5E|  애타게 기다렸다.. 삼성 ‘정상...|2025-01-25 10:00:19|        ITSub잇섭|    역시 잇섭님!!!!\n",
      "혹시 다음에...|         0| 2025-01-25 14:02:19|2025-02-18 13:06:09|\n",
      "|  6|JEnFUkGHN5E|  애타게 기다렸다.. 삼성 ‘정상...|2025-01-25 10:00:19|        ITSub잇섭| 삼성 칩을 쓰질 않게되고부턴 성...|         1| 2025-01-25 12:01:22|2025-02-18 13:06:09|\n",
      "|  7|JEnFUkGHN5E|  애타게 기다렸다.. 삼성 ‘정상...|2025-01-25 10:00:19|        ITSub잇섭|      8:43 저 점수는 어떤 걸 뜻...|         0| 2025-01-25 11:52:20|2025-02-18 13:06:09|\n",
      "|  8|JEnFUkGHN5E|  애타게 기다렸다.. 삼성 ‘정상...|2025-01-25 10:00:19|        ITSub잇섭|    13pro에서 넘어갈만한가요 아...|         0| 2025-01-25 11:22:13|2025-02-18 13:06:09|\n",
      "|  9|JEnFUkGHN5E|  애타게 기다렸다.. 삼성 ‘정상...|2025-01-25 10:00:19|        ITSub잇섭| 저는 울트라 티타늄 블랙 샀는데...|         0| 2025-01-25 10:44:58|2025-02-18 13:06:09|\n",
      "| 10|JEnFUkGHN5E|  애타게 기다렸다.. 삼성 ‘정상...|2025-01-25 10:00:19|        ITSub잇섭|   갤북5에 이어서 S25시리즈까지...|        12| 2025-01-25 10:04:10|2025-02-18 13:06:09|\n",
      "| 11|BAytLn0NhpI|       갤럭시 S24+ VS 갤럭시 S...|2024-02-05 11:30:05|        ITSub잇섭| 벨벳쓰다가 24플넘어왓는데 존나...|         1| 2024-02-05 17:46:45|2025-02-18 13:06:09|\n",
      "| 12|BAytLn0NhpI|       갤럭시 S24+ VS 갤럭시 S...|2024-02-05 11:30:05|        ITSub잇섭|     3:54 새건데 벌써 한번 떨어...|         6| 2024-02-05 15:11:52|2025-02-18 13:06:09|\n",
      "| 13|BAytLn0NhpI|       갤럭시 S24+ VS 갤럭시 S...|2024-02-05 11:30:05|        ITSub잇섭|                              8:59|         0| 2024-02-05 12:40:21|2025-02-18 13:06:09|\n",
      "| 14|BAytLn0NhpI|       갤럭시 S24+ VS 갤럭시 S...|2024-02-05 11:30:05|        ITSub잇섭|지금 울트라버전 사진관련해서 이...|         0| 2024-02-05 11:44:52|2025-02-18 13:06:09|\n",
      "| 15|BAytLn0NhpI|       갤럭시 S24+ VS 갤럭시 S...|2024-02-05 11:30:05|        ITSub잇섭|  별생각 없었는데 5배 광학줌 실...|         6| 2024-02-05 11:39:00|2025-02-18 13:06:09|\n",
      "| 16|1Gv7VeYUo2g|빛나는 사성이 되어버린 삼성 케...|2024-01-31 10:00:00|디에디트 THE EDIT|               클리어뜻을 모르나??|         0| 2024-02-29 21:21:15|2025-02-18 13:06:09|\n",
      "| 17|1Gv7VeYUo2g|빛나는 사성이 되어버린 삼성 케...|2024-01-31 10:00:00|디에디트 THE EDIT| 업무명령 하신 분은 징계절차 밟...|      1984| 2024-01-31 15:21:30|2025-02-18 13:06:09|\n",
      "| 18|zaGM9YjHvSQ| 진짜 솔직하게요? 두달 내내 매...|2024-04-09 11:00:55|        ITSub잇섭|디지털 줌이라면 초점거리는 줌하...|         0| 2024-12-29 13:47:54|2025-02-18 13:06:09|\n",
      "| 19|zaGM9YjHvSQ| 진짜 솔직하게요? 두달 내내 매...|2024-04-09 11:00:55|        ITSub잇섭|    써보니 70세 나는 편해 무얼 ...|         0| 2024-10-03 22:31:03|2025-02-18 13:06:09|\n",
      "| 20|zaGM9YjHvSQ| 진짜 솔직하게요? 두달 내내 매...|2024-04-09 11:00:55|        ITSub잇섭|      갤럭시 s24 600만대 팔렸는...|         4| 2024-04-17 12:41:37|2025-02-18 13:06:09|\n",
      "+---+-----------+---------------------------------+-------------------+-----------------+----------------------------------+----------+--------------------+-------------------+\n",
      "only showing top 20 rows\n",
      "\n"
     ]
    },
    {
     "name": "stderr",
     "output_type": "stream",
     "text": [
      "\r",
      "                                                                                \r"
     ]
    }
   ],
   "source": [
    "host_ip = \"15.168.221.131\"  \n",
    "DATABASE = \"SNS_DB\"\n",
    "user_id = \"lab13\"\n",
    "user_password = \"lab13\"\n",
    "mysql_url = f\"jdbc:mysql://{host_ip}:3306/{DATABASE}\"\n",
    "\n",
    "# 환경 변수 설정\n",
    "os.environ['PYSPARK_SUBMIT_ARGS'] = '--jars /usr/local/lib/mysql-connector-java-5.1.49-bin.jar pyspark-shell'\n",
    "\n",
    "ss = SparkSession \\\n",
    "    .builder \\\n",
    "    .appName('MySQL') \\\n",
    "    .config('spark.executor.memory', '6g') \\\n",
    "    .config('spark.driver.memory', '6g') \\\n",
    "    .getOrCreate()\n",
    "\n",
    "mysql_url = f'jdbc:mysql://{host_ip}:3306/{DATABASE}?useSSL=false&allowPublicKeyRetrieval=true'\n",
    "ss.read.format('jdbc') \\\n",
    "    .options(\n",
    "        url = mysql_url,\n",
    "        driver = 'com.mysql.jdbc.Driver',\n",
    "        dbtable = 'tbCrawled_Youtube',\n",
    "        user = user_id,\n",
    "        password = user_password\n",
    "    ) \\\n",
    "    .load() \\\n",
    "    .show()"
   ]
  },
  {
   "cell_type": "markdown",
   "id": "960a2d2b-1496-49fb-ae66-4e2ed8b82894",
   "metadata": {},
   "source": [
    "## HDFS -> PySpark 연결"
   ]
  },
  {
   "cell_type": "code",
   "execution_count": 2,
   "id": "ec269f2b-03fd-4a8e-9605-798bec3ace25",
   "metadata": {
    "scrolled": true
   },
   "outputs": [
    {
     "name": "stderr",
     "output_type": "stream",
     "text": [
      "25/02/18 12:06:20 WARN NativeCodeLoader: Unable to load native-hadoop library for your platform... using builtin-java classes where applicable\n",
      "Using Spark's default log4j profile: org/apache/spark/log4j-defaults.properties\n",
      "Setting default log level to \"WARN\".\n",
      "To adjust logging level use sc.setLogLevel(newLevel). For SparkR, use setLogLevel(newLevel).\n",
      "                                                                                \r"
     ]
    },
    {
     "name": "stdout",
     "output_type": "stream",
     "text": [
      "+-----------+-------------------------------+--------------------+------------+---------------------------------+----------+--------------------+\n",
      "|   video_id|                          title|        publish_date|channel_name|                          comment|like_count|comment_publish_date|\n",
      "+-----------+-------------------------------+--------------------+------------+---------------------------------+----------+--------------------+\n",
      "|JEnFUkGHN5E|애타게 기다렸다.. 삼성 ‘정상...|2025-01-25T10:00:19Z|   ITSub잇섭|   중간에 S25 티타늄 그레이 컬...|       594|2025-01-25T10:18:34Z|\n",
      "|JEnFUkGHN5E|애타게 기다렸다.. 삼성 ‘정상...|2025-01-25T10:00:19Z|   ITSub잇섭|😂앱등이들아 애플의 온실왕국에...|         0|2025-02-17T07:44:25Z|\n",
      "|JEnFUkGHN5E|애타게 기다렸다.. 삼성 ‘정상...|2025-01-25T10:00:19Z|   ITSub잇섭|      인트로 대충찍은거 딱 걸렸죠|         0|2025-02-17T02:13:05Z|\n",
      "|JEnFUkGHN5E|애타게 기다렸다.. 삼성 ‘정상...|2025-01-25T10:00:19Z|   ITSub잇섭|     12:50 드디어 이런시대가\n",
      "\n",
      "...|         0|2025-02-15T05:43:47Z|\n",
      "|JEnFUkGHN5E|애타게 기다렸다.. 삼성 ‘정상...|2025-01-25T10:00:19Z|   ITSub잇섭|   혀가 짧니 트랙터시동소리😂😂😂|         0|2025-02-15T04:55:59Z|\n",
      "+-----------+-------------------------------+--------------------+------------+---------------------------------+----------+--------------------+\n",
      "only showing top 5 rows\n",
      "\n",
      "+-----------+-------------------------------+-------------------+------------+---------------------------------+----------+--------------------+\n",
      "|   video_id|                          title|       publish_date|channel_name|                          comment|like_count|comment_publish_date|\n",
      "+-----------+-------------------------------+-------------------+------------+---------------------------------+----------+--------------------+\n",
      "|JEnFUkGHN5E|애타게 기다렸다.. 삼성 ‘정상...|2025-01-25 10:00:19|   ITSub잇섭|   중간에 S25 티타늄 그레이 컬...|       594| 2025-01-25 10:18:34|\n",
      "|JEnFUkGHN5E|애타게 기다렸다.. 삼성 ‘정상...|2025-01-25 10:00:19|   ITSub잇섭|😂앱등이들아 애플의 온실왕국에...|         0| 2025-02-17 07:44:25|\n",
      "|JEnFUkGHN5E|애타게 기다렸다.. 삼성 ‘정상...|2025-01-25 10:00:19|   ITSub잇섭|      인트로 대충찍은거 딱 걸렸죠|         0| 2025-02-17 02:13:05|\n",
      "|JEnFUkGHN5E|애타게 기다렸다.. 삼성 ‘정상...|2025-01-25 10:00:19|   ITSub잇섭|     12:50 드디어 이런시대가\n",
      "\n",
      "...|         0| 2025-02-15 05:43:47|\n",
      "|JEnFUkGHN5E|애타게 기다렸다.. 삼성 ‘정상...|2025-01-25 10:00:19|   ITSub잇섭|   혀가 짧니 트랙터시동소리😂😂😂|         0| 2025-02-15 04:55:59|\n",
      "+-----------+-------------------------------+-------------------+------------+---------------------------------+----------+--------------------+\n",
      "only showing top 5 rows\n",
      "\n"
     ]
    }
   ],
   "source": [
    "# def build_spark():\n",
    "#     return SparkSession.builder \\\n",
    "#         .appName(\"HDFS to MySQL\") \\\n",
    "#         .config(\"spark.hadoop.fs.defaultFS\", \"hdfs://15.168.221.131:9000\") \\\n",
    "#         .getOrCreate()\n",
    "\n",
    "# def load_hdfs_files(spark, hdfs_path):\n",
    "#     return spark.read.parquet(hdfs_path)\n",
    "\n",
    "# def df_preprocessing(df, convert_cols):\n",
    "#     for c in convert_cols:\n",
    "#         df = df.withColumn(c, to_timestamp(col(c), \"yyyy-MM-dd'T'HH:mm:ss'Z'\"))  \n",
    "#     return df.dropna() \n",
    "\n",
    "# spark = build_spark()\n",
    "\n",
    "# hdfs_path = \"hdfs://15.168.221.131:9000/youtube_data/*\"\n",
    "# df = load_hdfs_files(spark, hdfs_path)\n",
    "# df.show(5)\n",
    "\n",
    "# # 데이터 전처리\n",
    "# convert_cols = ['comment_publish_date', 'publish_date']\n",
    "# df = df_preprocessing(df, convert_cols)\n",
    "# df.show(5)\n",
    "\n",
    "# spark.stop()"
   ]
  },
  {
   "cell_type": "code",
   "execution_count": 3,
   "id": "5ebd6929",
   "metadata": {},
   "outputs": [
    {
     "name": "stdout",
     "output_type": "stream",
     "text": [
      "root\n",
      " |-- video_id: string (nullable = true)\n",
      " |-- title: string (nullable = true)\n",
      " |-- publish_date: timestamp (nullable = true)\n",
      " |-- channel_name: string (nullable = true)\n",
      " |-- comment: string (nullable = true)\n",
      " |-- like_count: long (nullable = true)\n",
      " |-- comment_publish_date: timestamp (nullable = true)\n",
      "\n"
     ]
    }
   ],
   "source": [
    "# df.printSchema()"
   ]
  },
  {
   "cell_type": "markdown",
   "id": "b2ce8314-61f1-4a17-8ef1-d465992fb918",
   "metadata": {},
   "source": [
    "## PySpark -> MySQL 연결"
   ]
  },
  {
   "cell_type": "code",
   "execution_count": 5,
   "id": "b706b1e4-cc92-4db4-954d-574e146c5d6b",
   "metadata": {},
   "outputs": [],
   "source": [
    "# def save_to_mysql(df, table_name):\n",
    "#     df.write.format('jdbc') \\\n",
    "#         .option(\"url\", mysql_url) \\\n",
    "#         .option(\"driver\", \"com.mysql.cj.jdbc.Driver\") \\\n",
    "#         .option(\"dbtable\", table_name) \\\n",
    "#         .option(\"user\", user_id) \\\n",
    "#         .option(\"password\", user_password) \\\n",
    "#         .mode('append') \\\n",
    "#         .save()\n",
    "#     print(f\"Data saved to MySQL table: {table_name}\")\n",
    "\n",
    "# table_name = \"tbCrawled_Youtube\"\n",
    "# save_to_mysql(df, table_name)"
   ]
  },
  {
   "cell_type": "code",
   "execution_count": 16,
   "id": "1ac610cb",
   "metadata": {},
   "outputs": [],
   "source": [
    "host_ip = \"15.168.221.131\"  \n",
    "DATABASE = \"SNS_DB\"\n",
    "user_id = \"lab13\"\n",
    "user_password = \"lab13\"\n",
    "mysql_url = f\"jdbc:mysql://{host_ip}:3306/{DATABASE}\""
   ]
  },
  {
   "cell_type": "code",
   "execution_count": 17,
   "id": "4641fa0e-82b9-4063-a345-d44ae7e39069",
   "metadata": {},
   "outputs": [
    {
     "name": "stdout",
     "output_type": "stream",
     "text": [
      "tbCrawled_Danawa\n",
      "tbCrawled_Youtube\n"
     ]
    }
   ],
   "source": [
    "connection = mysql.connector.connect(\n",
    "    host='localhost',\n",
    "    user='lab13',\n",
    "    password='lab13',\n",
    "    database='SNS_DB',\n",
    "    charset='utf8mb4'\n",
    ")\n",
    "\n",
    "cursor = connection.cursor()\n",
    "cursor.execute(\"SHOW TABLES;\")  \n",
    "for table in cursor.fetchall():\n",
    "    print(table[0])"
   ]
  },
  {
   "cell_type": "code",
   "execution_count": 18,
   "id": "5c85b8f8-786d-478e-a1c2-3e2fec6b9e6d",
   "metadata": {
    "scrolled": true
   },
   "outputs": [
    {
     "name": "stdout",
     "output_type": "stream",
     "text": [
      "(1, 'JEnFUkGHN5E', '애타게 기다렸다.. 삼성 ‘정상화’. 갤럭시 S25 시리즈 달라진 9가지!', datetime.datetime(2025, 1, 25, 10, 0, 19), 'ITSub잇섭', '남이 만든 고성능 최신 칩, 메모리  사다 넣고 AI 기술 좀 발전된거 넣은거 말고 삼성이 한게 뭐있나 싶다.\\n전혀 새로울게 없는, 다음 애플 신제품에 피떡되게 얻어 맞을 것 같은 불길한 예감이 솔솔~', 0, datetime.datetime(2025, 1, 28, 7, 53, 14), datetime.datetime(2025, 2, 18, 13, 6, 9))\n",
      "(2, 'JEnFUkGHN5E', '애타게 기다렸다.. 삼성 ‘정상화’. 갤럭시 S25 시리즈 달라진 9가지!', datetime.datetime(2025, 1, 25, 10, 0, 19), 'ITSub잇섭', '10:51 실리콘 카바이드 ㄴㄴ 실리콘-카본 ㅇㅋ. 실리콘+카본 복합체이지 합금이 아님.', 2, datetime.datetime(2025, 1, 26, 14, 23, 50), datetime.datetime(2025, 2, 18, 13, 6, 9))\n",
      "(3, 'JEnFUkGHN5E', '애타게 기다렸다.. 삼성 ‘정상화’. 갤럭시 S25 시리즈 달라진 9가지!', datetime.datetime(2025, 1, 25, 10, 0, 19), 'ITSub잇섭', '잇섭님 영상과 조금 동떨어진 얘기지만 S23 시리즈 현 시점에도 쓸만한가요?', 6, datetime.datetime(2025, 1, 26, 2, 46, 19), datetime.datetime(2025, 2, 18, 13, 6, 9))\n",
      "(4, 'JEnFUkGHN5E', '애타게 기다렸다.. 삼성 ‘정상화’. 갤럭시 S25 시리즈 달라진 9가지!', datetime.datetime(2025, 1, 25, 10, 0, 19), 'ITSub잇섭', '미국, 유럽에선 엄청 까이던데 ㅋㅋㅋ\\n중국폰 보다 50만원 비싼데 배터리 두껍고 용량도 작고\\ns20부터 여전히 램 12gb 유지하고 있다며..\\n하지만 한국은 전모델 스냅만으로도 극-락', 2, datetime.datetime(2025, 1, 25, 14, 26, 4), datetime.datetime(2025, 2, 18, 13, 6, 9))\n",
      "(5, 'JEnFUkGHN5E', '애타게 기다렸다.. 삼성 ‘정상화’. 갤럭시 S25 시리즈 달라진 9가지!', datetime.datetime(2025, 1, 25, 10, 0, 19), 'ITSub잇섭', '역시 잇섭님!!!!\\n혹시 다음에 갤럭시25  악세사리들도 하실 예정이 있으실까요?', 0, datetime.datetime(2025, 1, 25, 14, 2, 19), datetime.datetime(2025, 2, 18, 13, 6, 9))\n",
      "(6, 'JEnFUkGHN5E', '애타게 기다렸다.. 삼성 ‘정상화’. 갤럭시 S25 시리즈 달라진 9가지!', datetime.datetime(2025, 1, 25, 10, 0, 19), 'ITSub잇섭', '삼성 칩을 쓰질 않게되고부턴 성능이 점차 발전하는 모습이라 안타깝기도 하네요 ㅎ.. 삼성이 어쩌다 이렇게 됐을까요..', 1, datetime.datetime(2025, 1, 25, 12, 1, 22), datetime.datetime(2025, 2, 18, 13, 6, 9))\n",
      "(7, 'JEnFUkGHN5E', '애타게 기다렸다.. 삼성 ‘정상화’. 갤럭시 S25 시리즈 달라진 9가지!', datetime.datetime(2025, 1, 25, 10, 0, 19), 'ITSub잇섭', '8:43 저 점수는 어떤 걸 뜻하나요??', 0, datetime.datetime(2025, 1, 25, 11, 52, 20), datetime.datetime(2025, 2, 18, 13, 6, 9))\n",
      "(8, 'JEnFUkGHN5E', '애타게 기다렸다.. 삼성 ‘정상화’. 갤럭시 S25 시리즈 달라진 9가지!', datetime.datetime(2025, 1, 25, 10, 0, 19), 'ITSub잇섭', '13pro에서 넘어갈만한가요 아이폰 4부터 지금까지 애플만 써서 겔럭시는 처음 써보는데', 0, datetime.datetime(2025, 1, 25, 11, 22, 13), datetime.datetime(2025, 2, 18, 13, 6, 9))\n",
      "(9, 'JEnFUkGHN5E', '애타게 기다렸다.. 삼성 ‘정상화’. 갤럭시 S25 시리즈 달라진 9가지!', datetime.datetime(2025, 1, 25, 10, 0, 19), 'ITSub잇섭', '저는 울트라 티타늄 블랙 샀는데 ㅎㅎㅎ', 0, datetime.datetime(2025, 1, 25, 10, 44, 58), datetime.datetime(2025, 2, 18, 13, 6, 9))\n",
      "(10, 'JEnFUkGHN5E', '애타게 기다렸다.. 삼성 ‘정상화’. 갤럭시 S25 시리즈 달라진 9가지!', datetime.datetime(2025, 1, 25, 10, 0, 19), 'ITSub잇섭', '갤북5에 이어서 S25시리즈까지 거의 동결을 해내네요...😮\\n내년은 정말로 인상할것 같으니 이번에 울트라 타고 2년 존버 가겠습니다 ㅋㅋㅋㅋ', 12, datetime.datetime(2025, 1, 25, 10, 4, 10), datetime.datetime(2025, 2, 18, 13, 6, 9))\n"
     ]
    }
   ],
   "source": [
    "table_name = \"tbCrawled_Youtube\"\n",
    "cursor.execute(f\"SELECT * FROM {table_name} LIMIT 10;\") \n",
    "rows = cursor.fetchall()\n",
    "for row in rows:\n",
    "    print(row)"
   ]
  },
  {
   "cell_type": "code",
   "execution_count": 19,
   "id": "83b4c024-fca5-438e-bcb8-5be30015265a",
   "metadata": {},
   "outputs": [
    {
     "data": {
      "text/plain": [
       "69950"
      ]
     },
     "execution_count": 19,
     "metadata": {},
     "output_type": "execute_result"
    }
   ],
   "source": [
    "cursor.execute(f\"SELECT COUNT(*) FROM {table_name};\")\n",
    "count = cursor.fetchone()[0]\n",
    "count"
   ]
  },
  {
   "cell_type": "code",
   "execution_count": 7,
   "id": "34c6bb5f-74a4-4f5c-8786-87a773ee70d0",
   "metadata": {},
   "outputs": [
    {
     "data": {
      "text/html": [
       "<div>\n",
       "<style scoped>\n",
       "    .dataframe tbody tr th:only-of-type {\n",
       "        vertical-align: middle;\n",
       "    }\n",
       "\n",
       "    .dataframe tbody tr th {\n",
       "        vertical-align: top;\n",
       "    }\n",
       "\n",
       "    .dataframe thead th {\n",
       "        text-align: right;\n",
       "    }\n",
       "</style>\n",
       "<table border=\"1\" class=\"dataframe\">\n",
       "  <thead>\n",
       "    <tr style=\"text-align: right;\">\n",
       "      <th></th>\n",
       "      <th>video_id</th>\n",
       "      <th>title</th>\n",
       "      <th>publish_date</th>\n",
       "      <th>channel_name</th>\n",
       "      <th>comment</th>\n",
       "      <th>like_count</th>\n",
       "      <th>comment_publish_date</th>\n",
       "      <th>load_date</th>\n",
       "    </tr>\n",
       "  </thead>\n",
       "  <tbody>\n",
       "    <tr>\n",
       "      <th>0</th>\n",
       "      <td>JEnFUkGHN5E</td>\n",
       "      <td>애타게 기다렸다.. 삼성 ‘정상화’. 갤럭시 S25 시리즈 달라진 9가지!</td>\n",
       "      <td>2025-01-25 10:00:19</td>\n",
       "      <td>ITSub잇섭</td>\n",
       "      <td>남이 만든 고성능 최신 칩, 메모리  사다 넣고 AI 기술 좀 발전된거 넣은거 말고...</td>\n",
       "      <td>0</td>\n",
       "      <td>2025-01-28 07:53:14</td>\n",
       "      <td>2025-02-18 11:50:14</td>\n",
       "    </tr>\n",
       "    <tr>\n",
       "      <th>1</th>\n",
       "      <td>JEnFUkGHN5E</td>\n",
       "      <td>애타게 기다렸다.. 삼성 ‘정상화’. 갤럭시 S25 시리즈 달라진 9가지!</td>\n",
       "      <td>2025-01-25 10:00:19</td>\n",
       "      <td>ITSub잇섭</td>\n",
       "      <td>10:51 실리콘 카바이드 ㄴㄴ 실리콘-카본 ㅇㅋ. 실리콘+카본 복합체이지 합금이 아님.</td>\n",
       "      <td>2</td>\n",
       "      <td>2025-01-26 14:23:50</td>\n",
       "      <td>2025-02-18 11:50:14</td>\n",
       "    </tr>\n",
       "    <tr>\n",
       "      <th>2</th>\n",
       "      <td>JEnFUkGHN5E</td>\n",
       "      <td>애타게 기다렸다.. 삼성 ‘정상화’. 갤럭시 S25 시리즈 달라진 9가지!</td>\n",
       "      <td>2025-01-25 10:00:19</td>\n",
       "      <td>ITSub잇섭</td>\n",
       "      <td>잇섭님 영상과 조금 동떨어진 얘기지만 S23 시리즈 현 시점에도 쓸만한가요?</td>\n",
       "      <td>6</td>\n",
       "      <td>2025-01-26 02:46:19</td>\n",
       "      <td>2025-02-18 11:50:14</td>\n",
       "    </tr>\n",
       "    <tr>\n",
       "      <th>3</th>\n",
       "      <td>JEnFUkGHN5E</td>\n",
       "      <td>애타게 기다렸다.. 삼성 ‘정상화’. 갤럭시 S25 시리즈 달라진 9가지!</td>\n",
       "      <td>2025-01-25 10:00:19</td>\n",
       "      <td>ITSub잇섭</td>\n",
       "      <td>미국, 유럽에선 엄청 까이던데 ㅋㅋㅋ\\n중국폰 보다 50만원 비싼데 배터리 두껍고 ...</td>\n",
       "      <td>2</td>\n",
       "      <td>2025-01-25 14:26:04</td>\n",
       "      <td>2025-02-18 11:50:14</td>\n",
       "    </tr>\n",
       "    <tr>\n",
       "      <th>4</th>\n",
       "      <td>JEnFUkGHN5E</td>\n",
       "      <td>애타게 기다렸다.. 삼성 ‘정상화’. 갤럭시 S25 시리즈 달라진 9가지!</td>\n",
       "      <td>2025-01-25 10:00:19</td>\n",
       "      <td>ITSub잇섭</td>\n",
       "      <td>역시 잇섭님!!!!\\n혹시 다음에 갤럭시25  악세사리들도 하실 예정이 있으실까요?</td>\n",
       "      <td>0</td>\n",
       "      <td>2025-01-25 14:02:19</td>\n",
       "      <td>2025-02-18 11:50:14</td>\n",
       "    </tr>\n",
       "    <tr>\n",
       "      <th>5</th>\n",
       "      <td>JEnFUkGHN5E</td>\n",
       "      <td>애타게 기다렸다.. 삼성 ‘정상화’. 갤럭시 S25 시리즈 달라진 9가지!</td>\n",
       "      <td>2025-01-25 10:00:19</td>\n",
       "      <td>ITSub잇섭</td>\n",
       "      <td>삼성 칩을 쓰질 않게되고부턴 성능이 점차 발전하는 모습이라 안타깝기도 하네요 ㅎ.....</td>\n",
       "      <td>1</td>\n",
       "      <td>2025-01-25 12:01:22</td>\n",
       "      <td>2025-02-18 11:50:14</td>\n",
       "    </tr>\n",
       "    <tr>\n",
       "      <th>6</th>\n",
       "      <td>JEnFUkGHN5E</td>\n",
       "      <td>애타게 기다렸다.. 삼성 ‘정상화’. 갤럭시 S25 시리즈 달라진 9가지!</td>\n",
       "      <td>2025-01-25 10:00:19</td>\n",
       "      <td>ITSub잇섭</td>\n",
       "      <td>8:43 저 점수는 어떤 걸 뜻하나요??</td>\n",
       "      <td>0</td>\n",
       "      <td>2025-01-25 11:52:20</td>\n",
       "      <td>2025-02-18 11:50:14</td>\n",
       "    </tr>\n",
       "    <tr>\n",
       "      <th>7</th>\n",
       "      <td>JEnFUkGHN5E</td>\n",
       "      <td>애타게 기다렸다.. 삼성 ‘정상화’. 갤럭시 S25 시리즈 달라진 9가지!</td>\n",
       "      <td>2025-01-25 10:00:19</td>\n",
       "      <td>ITSub잇섭</td>\n",
       "      <td>13pro에서 넘어갈만한가요 아이폰 4부터 지금까지 애플만 써서 겔럭시는 처음 써보는데</td>\n",
       "      <td>0</td>\n",
       "      <td>2025-01-25 11:22:13</td>\n",
       "      <td>2025-02-18 11:50:14</td>\n",
       "    </tr>\n",
       "    <tr>\n",
       "      <th>8</th>\n",
       "      <td>JEnFUkGHN5E</td>\n",
       "      <td>애타게 기다렸다.. 삼성 ‘정상화’. 갤럭시 S25 시리즈 달라진 9가지!</td>\n",
       "      <td>2025-01-25 10:00:19</td>\n",
       "      <td>ITSub잇섭</td>\n",
       "      <td>저는 울트라 티타늄 블랙 샀는데 ㅎㅎㅎ</td>\n",
       "      <td>0</td>\n",
       "      <td>2025-01-25 10:44:58</td>\n",
       "      <td>2025-02-18 11:50:14</td>\n",
       "    </tr>\n",
       "    <tr>\n",
       "      <th>9</th>\n",
       "      <td>JEnFUkGHN5E</td>\n",
       "      <td>애타게 기다렸다.. 삼성 ‘정상화’. 갤럭시 S25 시리즈 달라진 9가지!</td>\n",
       "      <td>2025-01-25 10:00:19</td>\n",
       "      <td>ITSub잇섭</td>\n",
       "      <td>갤북5에 이어서 S25시리즈까지 거의 동결을 해내네요...😮\\n내년은 정말로 인상할...</td>\n",
       "      <td>12</td>\n",
       "      <td>2025-01-25 10:04:10</td>\n",
       "      <td>2025-02-18 11:50:14</td>\n",
       "    </tr>\n",
       "  </tbody>\n",
       "</table>\n",
       "</div>"
      ],
      "text/plain": [
       "      video_id                                      title        publish_date  \\\n",
       "0  JEnFUkGHN5E  애타게 기다렸다.. 삼성 ‘정상화’. 갤럭시 S25 시리즈 달라진 9가지! 2025-01-25 10:00:19   \n",
       "1  JEnFUkGHN5E  애타게 기다렸다.. 삼성 ‘정상화’. 갤럭시 S25 시리즈 달라진 9가지! 2025-01-25 10:00:19   \n",
       "2  JEnFUkGHN5E  애타게 기다렸다.. 삼성 ‘정상화’. 갤럭시 S25 시리즈 달라진 9가지! 2025-01-25 10:00:19   \n",
       "3  JEnFUkGHN5E  애타게 기다렸다.. 삼성 ‘정상화’. 갤럭시 S25 시리즈 달라진 9가지! 2025-01-25 10:00:19   \n",
       "4  JEnFUkGHN5E  애타게 기다렸다.. 삼성 ‘정상화’. 갤럭시 S25 시리즈 달라진 9가지! 2025-01-25 10:00:19   \n",
       "5  JEnFUkGHN5E  애타게 기다렸다.. 삼성 ‘정상화’. 갤럭시 S25 시리즈 달라진 9가지! 2025-01-25 10:00:19   \n",
       "6  JEnFUkGHN5E  애타게 기다렸다.. 삼성 ‘정상화’. 갤럭시 S25 시리즈 달라진 9가지! 2025-01-25 10:00:19   \n",
       "7  JEnFUkGHN5E  애타게 기다렸다.. 삼성 ‘정상화’. 갤럭시 S25 시리즈 달라진 9가지! 2025-01-25 10:00:19   \n",
       "8  JEnFUkGHN5E  애타게 기다렸다.. 삼성 ‘정상화’. 갤럭시 S25 시리즈 달라진 9가지! 2025-01-25 10:00:19   \n",
       "9  JEnFUkGHN5E  애타게 기다렸다.. 삼성 ‘정상화’. 갤럭시 S25 시리즈 달라진 9가지! 2025-01-25 10:00:19   \n",
       "\n",
       "  channel_name                                            comment  like_count  \\\n",
       "0      ITSub잇섭  남이 만든 고성능 최신 칩, 메모리  사다 넣고 AI 기술 좀 발전된거 넣은거 말고...           0   \n",
       "1      ITSub잇섭  10:51 실리콘 카바이드 ㄴㄴ 실리콘-카본 ㅇㅋ. 실리콘+카본 복합체이지 합금이 아님.           2   \n",
       "2      ITSub잇섭         잇섭님 영상과 조금 동떨어진 얘기지만 S23 시리즈 현 시점에도 쓸만한가요?           6   \n",
       "3      ITSub잇섭  미국, 유럽에선 엄청 까이던데 ㅋㅋㅋ\\n중국폰 보다 50만원 비싼데 배터리 두껍고 ...           2   \n",
       "4      ITSub잇섭     역시 잇섭님!!!!\\n혹시 다음에 갤럭시25  악세사리들도 하실 예정이 있으실까요?           0   \n",
       "5      ITSub잇섭  삼성 칩을 쓰질 않게되고부턴 성능이 점차 발전하는 모습이라 안타깝기도 하네요 ㅎ.....           1   \n",
       "6      ITSub잇섭                             8:43 저 점수는 어떤 걸 뜻하나요??           0   \n",
       "7      ITSub잇섭   13pro에서 넘어갈만한가요 아이폰 4부터 지금까지 애플만 써서 겔럭시는 처음 써보는데           0   \n",
       "8      ITSub잇섭                              저는 울트라 티타늄 블랙 샀는데 ㅎㅎㅎ           0   \n",
       "9      ITSub잇섭  갤북5에 이어서 S25시리즈까지 거의 동결을 해내네요...😮\\n내년은 정말로 인상할...          12   \n",
       "\n",
       "  comment_publish_date           load_date  \n",
       "0  2025-01-28 07:53:14 2025-02-18 11:50:14  \n",
       "1  2025-01-26 14:23:50 2025-02-18 11:50:14  \n",
       "2  2025-01-26 02:46:19 2025-02-18 11:50:14  \n",
       "3  2025-01-25 14:26:04 2025-02-18 11:50:14  \n",
       "4  2025-01-25 14:02:19 2025-02-18 11:50:14  \n",
       "5  2025-01-25 12:01:22 2025-02-18 11:50:14  \n",
       "6  2025-01-25 11:52:20 2025-02-18 11:50:14  \n",
       "7  2025-01-25 11:22:13 2025-02-18 11:50:14  \n",
       "8  2025-01-25 10:44:58 2025-02-18 11:50:14  \n",
       "9  2025-01-25 10:04:10 2025-02-18 11:50:14  "
      ]
     },
     "execution_count": 7,
     "metadata": {},
     "output_type": "execute_result"
    }
   ],
   "source": [
    "# pandas\n",
    "cursor.execute(f\"SELECT * FROM {table_name};\")\n",
    "data = cursor.fetchall()\n",
    "df = pd.DataFrame(data, columns=['index', 'video_id', 'title', 'publish_date', 'channel_name', 'comment', 'like_count', 'comment_publish_date', 'load_date'])\n",
    "\n",
    "df = df.drop(columns=[df.columns[0]])\n",
    "df.head(10)"
   ]
  },
  {
   "cell_type": "code",
   "execution_count": 8,
   "id": "edccc747",
   "metadata": {},
   "outputs": [
    {
     "data": {
      "text/plain": [
       "2042"
      ]
     },
     "execution_count": 8,
     "metadata": {},
     "output_type": "execute_result"
    }
   ],
   "source": [
    "len(df[df['video_id']=='JEnFUkGHN5E'])"
   ]
  },
  {
   "cell_type": "code",
   "execution_count": 42,
   "id": "9a49937e-fe55-4d7f-b138-49b771ee6d3b",
   "metadata": {},
   "outputs": [
    {
     "data": {
      "text/plain": [
       "<DatetimeArray>\n",
       "['2025-02-06 15:42:08', '2025-02-06 15:42:09', '2025-02-06 15:42:10',\n",
       " '2025-02-06 15:42:11', '2025-02-06 15:42:12', '2025-02-06 15:42:13',\n",
       " '2025-02-06 15:42:14', '2025-02-06 15:42:15', '2025-02-06 15:42:16']\n",
       "Length: 9, dtype: datetime64[ns]"
      ]
     },
     "execution_count": 42,
     "metadata": {},
     "output_type": "execute_result"
    }
   ],
   "source": [
    "filtered_df = df[df.loc[:, 'video_id'] == 'BAytLn0NhpI']\n",
    "filtered_df['load_date'].unique()"
   ]
  },
  {
   "cell_type": "code",
   "execution_count": 43,
   "id": "3e615743-2da8-4050-9f0b-48670b32d5b5",
   "metadata": {},
   "outputs": [
    {
     "data": {
      "text/plain": [
       "<DatetimeArray>\n",
       "['2024-02-05 22:39:58', '2024-02-05 15:50:52', '2024-08-10 07:48:10',\n",
       " '2024-02-05 14:33:56', '2024-07-23 21:35:30', '2024-02-05 11:32:26',\n",
       " '2024-02-14 13:46:56', '2024-02-10 10:20:19', '2024-02-06 13:09:25',\n",
       " '2024-02-05 19:21:26',\n",
       " ...\n",
       " '2024-02-05 13:15:40', '2024-02-05 12:45:07', '2024-04-15 03:04:46',\n",
       " '2024-02-09 11:01:11', '2024-02-05 12:16:02', '2024-02-11 17:20:09',\n",
       " '2024-02-05 12:05:27', '2025-01-17 12:15:56', '2024-02-06 06:08:25',\n",
       " '2024-02-05 12:00:24']\n",
       "Length: 1395, dtype: datetime64[ns]"
      ]
     },
     "execution_count": 43,
     "metadata": {},
     "output_type": "execute_result"
    }
   ],
   "source": [
    "filtered_df['comment_publish_date'].unique()"
   ]
  },
  {
   "cell_type": "code",
   "execution_count": 44,
   "id": "960fc9fb-1d6a-4cdb-a076-cb5912021d22",
   "metadata": {},
   "outputs": [
    {
     "data": {
      "text/plain": [
       "<DatetimeArray>\n",
       "['2024-02-05 22:39:58', '2024-02-05 15:50:52', '2024-08-10 07:48:10',\n",
       " '2024-02-05 14:33:56', '2024-07-23 21:35:30', '2024-02-05 11:32:26',\n",
       " '2024-02-14 13:46:56', '2024-02-10 10:20:19', '2024-02-06 13:09:25',\n",
       " '2024-02-05 19:21:26',\n",
       " ...\n",
       " '2024-02-05 13:15:40', '2024-02-05 12:45:07', '2024-04-15 03:04:46',\n",
       " '2024-02-09 11:01:11', '2024-02-05 12:16:02', '2024-02-11 17:20:09',\n",
       " '2024-02-05 12:05:27', '2025-01-17 12:15:56', '2024-02-06 06:08:25',\n",
       " '2024-02-05 12:00:24']\n",
       "Length: 1395, dtype: datetime64[ns]"
      ]
     },
     "execution_count": 44,
     "metadata": {},
     "output_type": "execute_result"
    }
   ],
   "source": [
    "filtered_df['publish_date'].unique()"
   ]
  },
  {
   "cell_type": "code",
   "execution_count": null,
   "id": "53f9a15d-e0da-4de8-a83c-f253311cfd83",
   "metadata": {},
   "outputs": [],
   "source": [
    "conn.close()"
   ]
  }
 ],
 "metadata": {
  "kernelspec": {
   "display_name": "Python (Project)",
   "language": "python",
   "name": "project"
  },
  "language_info": {
   "codemirror_mode": {
    "name": "ipython",
    "version": 3
   },
   "file_extension": ".py",
   "mimetype": "text/x-python",
   "name": "python",
   "nbconvert_exporter": "python",
   "pygments_lexer": "ipython3",
   "version": "3.8.0"
  }
 },
 "nbformat": 4,
 "nbformat_minor": 5
}
