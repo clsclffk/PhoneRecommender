{
 "cells": [
  {
   "cell_type": "markdown",
   "id": "7c2e4534",
   "metadata": {},
   "source": [
    "## MySQL 서버 접속"
   ]
  },
  {
   "cell_type": "code",
   "execution_count": 11,
   "id": "cd9829d6",
   "metadata": {},
   "outputs": [],
   "source": [
    "import openai\n",
    "import os\n",
    "import pandas as pd\n",
    "import mysql.connector\n",
    "import json"
   ]
  },
  {
   "cell_type": "code",
   "execution_count": 2,
   "id": "fbbd5ac5",
   "metadata": {},
   "outputs": [
    {
     "name": "stdout",
     "output_type": "stream",
     "text": [
      "테이블 목록: [('analysis_results',), ('hobby_keywords',), ('phone_recommendations',), ('tbCrawled_Danawa',), ('tbCrawled_Youtube',), ('users',)]\n"
     ]
    }
   ],
   "source": [
    "db_config = {\n",
    "    \"host\": \"15.168.221.131\",\n",
    "    \"user\": \"lab13\",\n",
    "    \"password\": \"lab13\",\n",
    "    \"database\": \"SNS_DB\",\n",
    "    \"charset\" : \"utf8mb4\"\n",
    "}\n",
    "\n",
    "# MySQL 연결 설정\n",
    "conn = mysql.connector.connect(**db_config)\n",
    "cursor = conn.cursor()\n",
    "\n",
    "# 테이블 목록 확인\n",
    "cursor.execute(\"SHOW TABLES;\")\n",
    "tables = cursor.fetchall()\n",
    "print(\"테이블 목록:\", tables)"
   ]
  },
  {
   "cell_type": "markdown",
   "id": "615c0d9d",
   "metadata": {},
   "source": [
    "## LLM 호출 & 키워드 저장 \n",
    "- 환경변수 설정\n",
    "```python\n",
    "echo 'export OPENAI_API_KEY=\"sk-xxxx\"' >> ~/.bashrc\n",
    "source ~/.bashrc\n",
    "```"
   ]
  },
  {
   "cell_type": "code",
   "execution_count": 12,
   "id": "843beea1",
   "metadata": {},
   "outputs": [],
   "source": [
    "# OpenAI API Key 설정\n",
    "api_key = os.environ.get('OPENAI_API_KEY')\n",
    "client = openai.OpenAI(api_key=api_key)\n",
    "\n",
    "db_config = {\n",
    "    \"host\": \"15.168.221.131\",\n",
    "    \"user\": \"lab13\",\n",
    "    \"password\": \"lab13\",\n",
    "    \"database\": \"SNS_DB\",\n",
    "    \"charset\": \"utf8mb4\"\n",
    "}\n",
    "\n",
    "# 키워드 생성 함수\n",
    "def get_keyword(user_input):  \n",
    "    \"\"\"OpenAI API를 사용하여 5개의 키워드를 추출하는 함수\"\"\"\n",
    "    try:\n",
    "        # 시스템 프롬프트 정의\n",
    "        system_prompt = f\"\"\"\n",
    "        [역할]       \n",
    "        너는 사람들의 취미 영역을 듣고, 거기서 사람들이 중요하게 생각하는 스마트폰의 기능을 키워드화해서 출력해줘. \n",
    "        반드시 아래 기준을 지켜줘야 해. \n",
    "\n",
    "        [기준]\n",
    "        1. 사용자의 취미에 중요한 스마트폰 기능/사양/부품을 추천해줘. \n",
    "        2. 5개의 키워드를 쉼표(,)로 구분해서 한 줄로만 제공해줘. \n",
    "            네가 출력하는 응답은 키워드 5개 이외의 다른 텍스트를 포함하면 절대 안 돼.\n",
    "        3. 각 키워드는 한 단어고, 5글자 이내여야 해. 간결할 수록 좋아. \n",
    "        4. 키워드는 사람들이 일상에서 많이 사용하는 쉬운 단어를 선택해. \n",
    "        5. 너무 기술적이거나 긴 단어는 피해줘(예. '스타일러스', '조리개', '이퀄라이저' 제외).  \n",
    "        6. 위의 사항들을 꼭 지켜서 알려줘. \n",
    "\n",
    "        [예시]\n",
    "        사용자 입력 : '사진 촬영'\n",
    "        \n",
    "        원하는 결과 : '배터리', '사이즈', '화질', '용량', '초점'\n",
    "        \"\"\"\n",
    "\n",
    "        # 사용자 입력 포함\n",
    "        user_prompt = f'\"{user_input}과 관련된 스마트폰 기능 키워드 5개를 알려줘.'\n",
    "\n",
    "        # OpenAI API 호출\n",
    "        response = client.chat.completions.create(\n",
    "            model=\"gpt-4o-mini\",\n",
    "            messages=[\n",
    "                {\"role\": \"system\", \"content\": system_prompt},\n",
    "                {\"role\": \"user\", \"content\": user_prompt}\n",
    "            ],\n",
    "            temperature=0.7\n",
    "        )\n",
    "\n",
    "        # 응답 데이터 처리\n",
    "        raw_output = response.choices[0].message.content.strip()\n",
    "        raw_output = raw_output.replace(\"'\",'').split(',')\n",
    "        return [res.strip() for res in raw_output]\n",
    "\n",
    "    except Exception as e:\n",
    "        print(f\"오류 발생: {e}\")\n",
    "        return []\n",
    "    except Exception as e:\n",
    "        print(f\" 예기치 않은 오류 발생: {e}\")\n",
    "        return []\n",
    "\n",
    "# 취미가 있는지 없는지 확인\n",
    "def check_hobby(hobby, gender, age_group):\n",
    "    \"\"\"\n",
    "    - DB에서 해당 취미가 이미 존재하는지 확인\n",
    "    - 존재하면 hobby_id 반환\n",
    "    - 존재하지 않으면 LLM 키워드 생성 후 DB에 저장하고 hobby_id 반환\n",
    "    \"\"\"\n",
    "    # 키워드 있는 경우\n",
    "    cursor.execute(\"\"\"\n",
    "            SELECT hobby_id, keyword_list FROM hobby_keywords \n",
    "            WHERE hobby = %s AND gender = %s AND age_group = %s\n",
    "        \"\"\", (hobby, gender, age_group))\n",
    "        \n",
    "    result = cursor.fetchone()\n",
    "    if result:\n",
    "        hobby_id, keyword_list = result\n",
    "        return hobby_id, json.loads(keyword_list) \n",
    "    \n",
    "    # 키워드 없는 경우\n",
    "    keyword_list = get_keyword(hobby)\n",
    "    cursor.execute(\"\"\"\n",
    "            INSERT INTO hobby_keywords (hobby, gender, age_group, keyword_list) \n",
    "            VALUES (%s, %s, %s, %s)\n",
    "        \"\"\", (hobby, gender, age_group, json.dumps(keyword_list)))  \n",
    "\n",
    "    conn.commit() \n",
    "    new_hobby_id = cursor.lastrowid\n",
    "    return new_hobby_id, keyword_list \n",
    "\n",
    "hobby_id, keyword_list = check_hobby(\"사진 촬영\", \"F\", \"20대\")  # 테스트용"
   ]
  },
  {
   "cell_type": "code",
   "execution_count": 13,
   "id": "6cc54a24",
   "metadata": {},
   "outputs": [
    {
     "data": {
      "text/plain": [
       "(1, ['배터리', '화질', '렌즈', '초점', '용량'])"
      ]
     },
     "execution_count": 13,
     "metadata": {},
     "output_type": "execute_result"
    }
   ],
   "source": [
    "hobby_id, keyword_list"
   ]
  },
  {
   "cell_type": "code",
   "execution_count": 1,
   "id": "244568fa",
   "metadata": {},
   "outputs": [
    {
     "name": "stdout",
     "output_type": "stream",
     "text": [
      "파일 생성\n"
     ]
    }
   ],
   "source": [
    "# py파일로 저장하기\n",
    "code = \"\"\"\n",
    "import mysql.connector\n",
    "import json\n",
    "import os\n",
    "import openai\n",
    "\n",
    "# OpenAI API Key 설정\n",
    "api_key = os.environ.get(\"OPENAI_API_KEY\")\n",
    "client = openai.OpenAI(api_key=api_key)\n",
    "\n",
    "# MySQL 연결 설정\n",
    "db_config = {\n",
    "    \"host\": \"15.168.221.131\",\n",
    "    \"user\": \"lab13\",\n",
    "    \"password\": \"lab13\",\n",
    "    \"database\": \"SNS_DB\",\n",
    "    \"charset\": \"utf8mb4\"\n",
    "}\n",
    "\n",
    "# MySQL 연결 함수\n",
    "def get_db_connection():\n",
    "    return mysql.connector.connect(**db_config)\n",
    "\n",
    "# 키워드 생성 함수\n",
    "def get_keyword(user_input):\n",
    "    try:\n",
    "        system_prompt = '''\n",
    "        [역할]       \n",
    "        너는 사람들의 취미 영역을 듣고, 거기서 사람들이 중요하게 생각하는 스마트폰의 기능을 키워드화해서 출력해줘. \n",
    "        반드시 아래 기준을 지켜줘야 해. \n",
    "\n",
    "        [기준]\n",
    "        1. 사용자의 취미에 중요한 스마트폰 기능/사양/부품을 추천해줘. \n",
    "        2. 5개의 키워드를 쉼표(,)로 구분해서 한 줄로만 제공해줘. \n",
    "            네가 출력하는 응답은 키워드 5개 이외의 다른 텍스트를 포함하면 절대 안 돼.\n",
    "        3. 각 키워드는 한 단어고, 5글자 이내여야 해. 간결할 수록 좋아. \n",
    "        4. 키워드는 사람들이 일상에서 많이 사용하는 쉬운 단어를 선택해. \n",
    "        5. 너무 기술적이거나 긴 단어는 피해줘(예. '스타일러스', '조리개', '이퀄라이저' 제외).  \n",
    "        6. 입력된 키워드가 윤리적이지 않거나 청소년에게 적절하지 않을 경우 '입력할 수 없는 단어입니다'라고 말해줘. \n",
    "        7. 위의 사항들을 꼭 지켜서 알려줘. \n",
    "\n",
    "        [예시]\n",
    "        사용자 입력 : '사진 촬영'\n",
    "        \n",
    "        원하는 결과 : '배터리', '사이즈', '화질', '용량', '초점'\n",
    "        '''\n",
    "        user_prompt = f'\"{user_input}\"과 관련된 스마트폰 기능 키워드 5개를 알려줘.'\n",
    "\n",
    "        response = client.chat.completions.create(\n",
    "            model=\"gpt-4o-mini\",\n",
    "            messages=[\n",
    "                {\"role\": \"system\", \"content\": system_prompt},\n",
    "                {\"role\": \"user\", \"content\": user_prompt}\n",
    "            ],\n",
    "            temperature=0.7\n",
    "        )\n",
    "\n",
    "        raw_output = response.choices[0].message.content.strip()\n",
    "        raw_output = raw_output.replace(\"'\", \"\").split(\",\")\n",
    "        return [res.strip() for res in raw_output]\n",
    "\n",
    "    except Exception as e:\n",
    "        print(f\"오류 발생: {e}\")\n",
    "        return []\n",
    "\n",
    "# 취미가 있는지 없는지 확인하고, 없으면 LLM을 호출하여 저장하는 함수\n",
    "def check_hobby(hobby, gender, age_group):\n",
    "    try:\n",
    "        conn = get_db_connection()\n",
    "        with conn.cursor() as cursor:\n",
    "            cursor.execute(\\\"\\\"\\\"\n",
    "                SELECT hobby_id, keyword_list FROM hobby_keywords \n",
    "                WHERE hobby_name = %s AND gender = %s AND age_group = %s\n",
    "            \\\"\\\"\\\", (hobby, gender, age_group))\n",
    "\n",
    "            result = cursor.fetchone()\n",
    "\n",
    "            if result:\n",
    "                hobby_id, keyword_list = result\n",
    "                if keyword_list:\n",
    "                    keyword_list = json.loads(keyword_list)\n",
    "                else:\n",
    "                    keyword_list = []\n",
    "                return hobby_id, keyword_list\n",
    "\n",
    "            keyword_list = get_keyword(hobby)\n",
    "\n",
    "            cursor.execute(\\\"\\\"\\\"\n",
    "                INSERT INTO hobby_keywords (hobby_name, gender, age_group, keyword_list) \n",
    "                VALUES (%s, %s, %s, %s)\n",
    "            \\\"\\\"\\\", (hobby, gender, age_group, json.dumps(keyword_list)))\n",
    "            conn.commit()\n",
    "            new_hobby_id = cursor.lastrowid\n",
    "            return new_hobby_id, keyword_list\n",
    "\n",
    "    except Exception as e:\n",
    "        print(f\"오류 발생: {e}\")\n",
    "        return None, []\n",
    "    finally:\n",
    "        conn.close()\n",
    "\"\"\"\n",
    "\n",
    "with open(\"get_llm_keyword_list.py\", \"w\", encoding='utf-8') as f:\n",
    "    f.write(code)\n",
    "print('파일 생성')"
   ]
  },
  {
   "cell_type": "code",
   "execution_count": 4,
   "id": "31b9794a",
   "metadata": {},
   "outputs": [
    {
     "data": {
      "text/plain": [
       "(7, ['배터리', '사이즈', '화질', '용량', '초점'])"
      ]
     },
     "execution_count": 4,
     "metadata": {},
     "output_type": "execute_result"
    }
   ],
   "source": [
    "from get_llm_keyword_list import check_hobby\n",
    "\n",
    "check_hobby('사진 촬영', 'M', '20s')"
   ]
  }
 ],
 "metadata": {
  "kernelspec": {
   "display_name": "Python (Project)",
   "language": "python",
   "name": "project"
  },
  "language_info": {
   "codemirror_mode": {
    "name": "ipython",
    "version": 3
   },
   "file_extension": ".py",
   "mimetype": "text/x-python",
   "name": "python",
   "nbconvert_exporter": "python",
   "pygments_lexer": "ipython3",
   "version": "3.8.0"
  }
 },
 "nbformat": 4,
 "nbformat_minor": 5
}
